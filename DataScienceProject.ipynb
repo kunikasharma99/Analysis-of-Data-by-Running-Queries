{
  "nbformat": 4,
  "nbformat_minor": 0,
  "metadata": {
    "colab": {
      "name": "DataScienceProject.ipynb",
      "provenance": [],
      "collapsed_sections": []
    },
    "kernelspec": {
      "name": "python3",
      "display_name": "Python 3"
    },
    "language_info": {
      "name": "python"
    }
  },
  "cells": [
    {
      "cell_type": "markdown",
      "metadata": {
        "id": "ICb2rt6ZhjLo"
      },
      "source": [
        "# **College Placement Data Analysis**\n",
        "\n",
        "\n"
      ]
    },
    {
      "cell_type": "code",
      "metadata": {
        "colab": {
          "resources": {
            "http://localhost:8080/nbextensions/google.colab/files.js": {
              "data": "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",
              "ok": true,
              "headers": [
                [
                  "content-type",
                  "application/javascript"
                ]
              ],
              "status": 200,
              "status_text": ""
            }
          },
          "base_uri": "https://localhost:8080/",
          "height": 72
        },
        "id": "ZY77rdXJrS1M",
        "outputId": "a560c027-b2e3-4f2c-bca6-086ab7aa507a"
      },
      "source": [
        "from google.colab import files\n",
        "uploaded=files.upload()"
      ],
      "execution_count": null,
      "outputs": [
        {
          "output_type": "display_data",
          "data": {
            "text/html": [
              "\n",
              "     <input type=\"file\" id=\"files-c16b78fe-e28e-4961-bc2e-5ca7d0b7289f\" name=\"files[]\" multiple disabled\n",
              "        style=\"border:none\" />\n",
              "     <output id=\"result-c16b78fe-e28e-4961-bc2e-5ca7d0b7289f\">\n",
              "      Upload widget is only available when the cell has been executed in the\n",
              "      current browser session. Please rerun this cell to enable.\n",
              "      </output>\n",
              "      <script src=\"/nbextensions/google.colab/files.js\"></script> "
            ],
            "text/plain": [
              "<IPython.core.display.HTML object>"
            ]
          },
          "metadata": {}
        },
        {
          "output_type": "stream",
          "name": "stdout",
          "text": [
            "Saving collegePlace.csv to collegePlace.csv\n"
          ]
        }
      ]
    },
    {
      "cell_type": "code",
      "metadata": {
        "id": "U-Smi2hmCk1q"
      },
      "source": [
        "import pandas as pd\n",
        "df=pd.read_csv(\"collegePlace.csv\")"
      ],
      "execution_count": null,
      "outputs": []
    },
    {
      "cell_type": "markdown",
      "metadata": {
        "id": "fKlZPGiJsExN"
      },
      "source": [
        "**Displaying DataSet (including anomalies)**"
      ]
    },
    {
      "cell_type": "code",
      "metadata": {
        "colab": {
          "base_uri": "https://localhost:8080/"
        },
        "id": "TpGPH2dZsOrw",
        "outputId": "febf1700-9ec8-4986-a26f-46c87c0d59a6"
      },
      "source": [
        "print(df.head(30))"
      ],
      "execution_count": null,
      "outputs": [
        {
          "output_type": "stream",
          "name": "stdout",
          "text": [
            "     Age  Gender  ... HistoryOfBacklogs  PlacedOrNot\n",
            "0   22.0    Male  ...                 1          1.0\n",
            "1   21.0  Female  ...                 1          1.0\n",
            "2   22.0  Female  ...                 0          1.0\n",
            "3   21.0    Male  ...                 1          1.0\n",
            "4    NaN    Male  ...                 0          1.0\n",
            "5   22.0    Male  ...                 0          0.0\n",
            "6   21.0    Male  ...                 1          0.0\n",
            "7   21.0    Male  ...                 0          0.0\n",
            "8   21.0    Male  ...                 0          1.0\n",
            "9   21.0  Female  ...                 0          0.0\n",
            "10  22.0    Male  ...                 0          0.0\n",
            "11  22.0  Female  ...                 1          1.0\n",
            "12  21.0  Female  ...                 1          0.0\n",
            "13  21.0    Male  ...                 1          1.0\n",
            "14  21.0  Female  ...                 0          1.0\n",
            "15  22.0    Male  ...                 0          1.0\n",
            "16  22.0  Female  ...                 0          0.0\n",
            "17  21.0    Male  ...                 0          0.0\n",
            "18  21.0    Male  ...                 0          0.0\n",
            "19  22.0    Male  ...                 0          0.0\n",
            "20  22.0    Male  ...                 0          1.0\n",
            "21  21.0    Male  ...                 0          0.0\n",
            "22  22.0    Male  ...                 0          0.0\n",
            "23  22.0    Male  ...                 1          0.0\n",
            "24  22.0    Male  ...                 0          0.0\n",
            "25  21.0    Male  ...                 0          1.0\n",
            "26  22.0    Male  ...                 0          1.0\n",
            "27  22.0    Male  ...                 0          1.0\n",
            "28   NaN    Male  ...                 0          1.0\n",
            "29  21.0    Male  ...                 0          1.0\n",
            "\n",
            "[30 rows x 8 columns]\n"
          ]
        }
      ]
    },
    {
      "cell_type": "markdown",
      "metadata": {
        "id": "OMDWxYfuE61V"
      },
      "source": [
        "We can see there are some NULL values (NaN values) present indicating the dataset needs cleaning "
      ]
    },
    {
      "cell_type": "markdown",
      "metadata": {
        "id": "2R6E7K6t_cAk"
      },
      "source": [
        "**Describe Dataset**"
      ]
    },
    {
      "cell_type": "code",
      "metadata": {
        "colab": {
          "base_uri": "https://localhost:8080/",
          "height": 173
        },
        "id": "6f3bmONP_gSw",
        "outputId": "4b60dbaa-afa8-45e6-bb2e-74bc5c24471d"
      },
      "source": [
        "df.describe(include='O')"
      ],
      "execution_count": null,
      "outputs": [
        {
          "output_type": "execute_result",
          "data": {
            "text/html": [
              "<div>\n",
              "<style scoped>\n",
              "    .dataframe tbody tr th:only-of-type {\n",
              "        vertical-align: middle;\n",
              "    }\n",
              "\n",
              "    .dataframe tbody tr th {\n",
              "        vertical-align: top;\n",
              "    }\n",
              "\n",
              "    .dataframe thead th {\n",
              "        text-align: right;\n",
              "    }\n",
              "</style>\n",
              "<table border=\"1\" class=\"dataframe\">\n",
              "  <thead>\n",
              "    <tr style=\"text-align: right;\">\n",
              "      <th></th>\n",
              "      <th>Gender</th>\n",
              "      <th>Stream</th>\n",
              "    </tr>\n",
              "  </thead>\n",
              "  <tbody>\n",
              "    <tr>\n",
              "      <th>count</th>\n",
              "      <td>2954</td>\n",
              "      <td>2948</td>\n",
              "    </tr>\n",
              "    <tr>\n",
              "      <th>unique</th>\n",
              "      <td>2</td>\n",
              "      <td>6</td>\n",
              "    </tr>\n",
              "    <tr>\n",
              "      <th>top</th>\n",
              "      <td>Male</td>\n",
              "      <td>Computer Science</td>\n",
              "    </tr>\n",
              "    <tr>\n",
              "      <th>freq</th>\n",
              "      <td>2467</td>\n",
              "      <td>772</td>\n",
              "    </tr>\n",
              "  </tbody>\n",
              "</table>\n",
              "</div>"
            ],
            "text/plain": [
              "       Gender            Stream\n",
              "count    2954              2948\n",
              "unique      2                 6\n",
              "top      Male  Computer Science\n",
              "freq     2467               772"
            ]
          },
          "metadata": {},
          "execution_count": 8
        }
      ]
    },
    {
      "cell_type": "markdown",
      "metadata": {
        "id": "tMyImn0iD-MP"
      },
      "source": [
        "**Dataset** **Info**"
      ]
    },
    {
      "cell_type": "code",
      "metadata": {
        "colab": {
          "base_uri": "https://localhost:8080/"
        },
        "id": "NDCdyt02AVN_",
        "outputId": "e00199ec-ac1a-4c7d-b0fa-d9f767c43c85"
      },
      "source": [
        "df.info()"
      ],
      "execution_count": null,
      "outputs": [
        {
          "output_type": "stream",
          "name": "stdout",
          "text": [
            "<class 'pandas.core.frame.DataFrame'>\n",
            "RangeIndex: 2966 entries, 0 to 2965\n",
            "Data columns (total 8 columns):\n",
            " #   Column             Non-Null Count  Dtype  \n",
            "---  ------             --------------  -----  \n",
            " 0   Age                2960 non-null   float64\n",
            " 1   Gender             2960 non-null   object \n",
            " 2   Stream             2960 non-null   object \n",
            " 3   Internships        2966 non-null   int64  \n",
            " 4   CGPA               2961 non-null   float64\n",
            " 5   Hostel             2966 non-null   int64  \n",
            " 6   HistoryOfBacklogs  2966 non-null   int64  \n",
            " 7   PlacedOrNot        2959 non-null   float64\n",
            "dtypes: float64(3), int64(3), object(2)\n",
            "memory usage: 185.5+ KB\n"
          ]
        }
      ]
    },
    {
      "cell_type": "markdown",
      "metadata": {
        "id": "4tFsiw3wAbPP"
      },
      "source": [
        "The dataset has different data types and some null values "
      ]
    },
    {
      "cell_type": "markdown",
      "metadata": {
        "id": "EEMFdZctx1qs"
      },
      "source": [
        "**Displaying Null Values In DataSet**"
      ]
    },
    {
      "cell_type": "code",
      "metadata": {
        "colab": {
          "base_uri": "https://localhost:8080/"
        },
        "id": "D7AYv7exuEXT",
        "outputId": "a40c390f-54d2-4eae-f8c7-fb057926bf73"
      },
      "source": [
        "print(df[df.isnull().any(axis=1)])"
      ],
      "execution_count": null,
      "outputs": [
        {
          "output_type": "stream",
          "name": "stdout",
          "text": [
            "       Age  Gender  ... HistoryOfBacklogs  PlacedOrNot\n",
            "4      NaN    Male  ...                 0          1.0\n",
            "27    22.0    Male  ...                 0          1.0\n",
            "28     NaN    Male  ...                 0          1.0\n",
            "82     NaN    Male  ...                 0          1.0\n",
            "149   24.0    Male  ...                 0          1.0\n",
            "167    NaN  Female  ...                 0          0.0\n",
            "249   22.0    Male  ...                 0          NaN\n",
            "279   21.0     NaN  ...                 1          1.0\n",
            "334   22.0    Male  ...                 1          NaN\n",
            "341   22.0    Male  ...                 0          1.0\n",
            "398   21.0  Female  ...                 0          1.0\n",
            "428    NaN  Female  ...                 0          1.0\n",
            "437   21.0  Female  ...                 0          NaN\n",
            "487   22.0    Male  ...                 0          0.0\n",
            "508   21.0    Male  ...                 0          NaN\n",
            "525   22.0    Male  ...                 1          0.0\n",
            "526   22.0     NaN  ...                 0          0.0\n",
            "533   22.0     NaN  ...                 0          0.0\n",
            "603   21.0    Male  ...                 0          1.0\n",
            "652   22.0     NaN  ...                 0          1.0\n",
            "757   24.0    Male  ...                 0          1.0\n",
            "797   22.0     NaN  ...                 0          1.0\n",
            "882   22.0    Male  ...                 1          1.0\n",
            "914   22.0  Female  ...                 0          NaN\n",
            "971   21.0    Male  ...                 0          1.0\n",
            "1056  22.0    Male  ...                 0          NaN\n",
            "1082   NaN    Male  ...                 0          0.0\n",
            "1102  21.0    Male  ...                 1          1.0\n",
            "1124  22.0     NaN  ...                 0          1.0\n",
            "1151  21.0    Male  ...                 0          NaN\n",
            "\n",
            "[30 rows x 8 columns]\n"
          ]
        }
      ]
    },
    {
      "cell_type": "markdown",
      "metadata": {
        "id": "9349byccypvD"
      },
      "source": [
        "The above code shows that 30 rows in the Dataset have Null values somewhere in the 8 different columns"
      ]
    },
    {
      "cell_type": "markdown",
      "metadata": {
        "id": "0Gnp8yY5yDee"
      },
      "source": [
        "**Replacing NULL Values in \"Age\" Column with Mean of Age**"
      ]
    },
    {
      "cell_type": "code",
      "metadata": {
        "colab": {
          "base_uri": "https://localhost:8080/"
        },
        "id": "DuyYXY1zyL5X",
        "outputId": "6652f1d8-3d78-43f2-808e-c65f26b48c67"
      },
      "source": [
        "mAge=df['Age'].mean()\n",
        "df['Age'].fillna(mAge,inplace=True)\n",
        "print(df[df.isnull().any(axis=1)])"
      ],
      "execution_count": null,
      "outputs": [
        {
          "output_type": "stream",
          "name": "stdout",
          "text": [
            "       Age  Gender  ... HistoryOfBacklogs  PlacedOrNot\n",
            "27    22.0    Male  ...                 0          1.0\n",
            "149   24.0    Male  ...                 0          1.0\n",
            "249   22.0    Male  ...                 0          NaN\n",
            "279   21.0     NaN  ...                 1          1.0\n",
            "334   22.0    Male  ...                 1          NaN\n",
            "341   22.0    Male  ...                 0          1.0\n",
            "398   21.0  Female  ...                 0          1.0\n",
            "437   21.0  Female  ...                 0          NaN\n",
            "487   22.0    Male  ...                 0          0.0\n",
            "508   21.0    Male  ...                 0          NaN\n",
            "525   22.0    Male  ...                 1          0.0\n",
            "526   22.0     NaN  ...                 0          0.0\n",
            "533   22.0     NaN  ...                 0          0.0\n",
            "603   21.0    Male  ...                 0          1.0\n",
            "652   22.0     NaN  ...                 0          1.0\n",
            "757   24.0    Male  ...                 0          1.0\n",
            "797   22.0     NaN  ...                 0          1.0\n",
            "882   22.0    Male  ...                 1          1.0\n",
            "914   22.0  Female  ...                 0          NaN\n",
            "971   21.0    Male  ...                 0          1.0\n",
            "1056  22.0    Male  ...                 0          NaN\n",
            "1102  21.0    Male  ...                 1          1.0\n",
            "1124  22.0     NaN  ...                 0          1.0\n",
            "1151  21.0    Male  ...                 0          NaN\n",
            "\n",
            "[24 rows x 8 columns]\n"
          ]
        }
      ]
    },
    {
      "cell_type": "markdown",
      "metadata": {
        "id": "_2MVTcdwzLk8"
      },
      "source": [
        "The missing age values have been replaced with the mean leaving 24 Null Values in the dataset"
      ]
    },
    {
      "cell_type": "markdown",
      "metadata": {
        "id": "WoTMgzdCzcTS"
      },
      "source": [
        "**Rows with NULL CGPA and PlacedOrNot Values are dropped from Dataset**"
      ]
    },
    {
      "cell_type": "code",
      "metadata": {
        "colab": {
          "base_uri": "https://localhost:8080/"
        },
        "id": "4kmG-0i98yA_",
        "outputId": "7bb3465d-bbea-44a9-9ad8-5ed084a81634"
      },
      "source": [
        "df.dropna(subset=['CGPA' ,'PlacedOrNot'],inplace=True)\n",
        "print(df[df.isnull().any(axis=1)])\n"
      ],
      "execution_count": null,
      "outputs": [
        {
          "output_type": "stream",
          "name": "stdout",
          "text": [
            "       Age Gender  ... HistoryOfBacklogs  PlacedOrNot\n",
            "279   21.0    NaN  ...                 1          1.0\n",
            "487   22.0   Male  ...                 0          0.0\n",
            "526   22.0    NaN  ...                 0          0.0\n",
            "533   22.0    NaN  ...                 0          0.0\n",
            "603   21.0   Male  ...                 0          1.0\n",
            "652   22.0    NaN  ...                 0          1.0\n",
            "757   24.0   Male  ...                 0          1.0\n",
            "797   22.0    NaN  ...                 0          1.0\n",
            "882   22.0   Male  ...                 1          1.0\n",
            "971   21.0   Male  ...                 0          1.0\n",
            "1102  21.0   Male  ...                 1          1.0\n",
            "1124  22.0    NaN  ...                 0          1.0\n",
            "\n",
            "[12 rows x 8 columns]\n"
          ]
        }
      ]
    },
    {
      "cell_type": "markdown",
      "metadata": {
        "id": "5JkbsjUvFcSJ"
      },
      "source": [
        "Rows having Null CGPA and PlacedOrNot Values are dropped. We can now see that there are 6 rows which have Missing Values in the \"Gender\" and \"Stream\" columns that need to be replaced as the final steps in the data-cleaning process. "
      ]
    },
    {
      "cell_type": "markdown",
      "metadata": {
        "id": "t6a1dnGT-nMh"
      },
      "source": [
        "**Replace missing \"Gender\" column values with \"Male\"**"
      ]
    },
    {
      "cell_type": "code",
      "metadata": {
        "colab": {
          "base_uri": "https://localhost:8080/"
        },
        "id": "oYPMj-rU-J23",
        "outputId": "f05426d8-7b52-4b80-dc38-43aba0e5b3f4"
      },
      "source": [
        "df['Gender'].fillna(\"Male\",inplace=True)\n",
        "print(df[df.isnull().any(axis=1)])"
      ],
      "execution_count": null,
      "outputs": [
        {
          "output_type": "stream",
          "name": "stdout",
          "text": [
            "       Age  Gender  ... HistoryOfBacklogs  PlacedOrNot\n",
            "4      NaN    Male  ...                 0          1.0\n",
            "27    22.0    Male  ...                 0          1.0\n",
            "28     NaN    Male  ...                 0          1.0\n",
            "82     NaN    Male  ...                 0          1.0\n",
            "149   24.0    Male  ...                 0          1.0\n",
            "167    NaN  Female  ...                 0          0.0\n",
            "249   22.0    Male  ...                 0          NaN\n",
            "334   22.0    Male  ...                 1          NaN\n",
            "341   22.0    Male  ...                 0          1.0\n",
            "398   21.0  Female  ...                 0          1.0\n",
            "428    NaN  Female  ...                 0          1.0\n",
            "437   21.0  Female  ...                 0          NaN\n",
            "487   22.0    Male  ...                 0          0.0\n",
            "508   21.0    Male  ...                 0          NaN\n",
            "525   22.0    Male  ...                 1          0.0\n",
            "603   21.0    Male  ...                 0          1.0\n",
            "757   24.0    Male  ...                 0          1.0\n",
            "882   22.0    Male  ...                 1          1.0\n",
            "914   22.0  Female  ...                 0          NaN\n",
            "971   21.0    Male  ...                 0          1.0\n",
            "1056  22.0    Male  ...                 0          NaN\n",
            "1082   NaN    Male  ...                 0          0.0\n",
            "1102  21.0    Male  ...                 1          1.0\n",
            "1151  21.0    Male  ...                 0          NaN\n",
            "\n",
            "[24 rows x 8 columns]\n"
          ]
        }
      ]
    },
    {
      "cell_type": "markdown",
      "metadata": {
        "id": "TRG9Uvmc-1hK"
      },
      "source": [
        "All missing gender values replaced. Null values now left only in the \"Stream\" Column"
      ]
    },
    {
      "cell_type": "markdown",
      "metadata": {
        "id": "zCvCWRQMQocs"
      },
      "source": [
        "## Features wrt to Internship."
      ]
    },
    {
      "cell_type": "markdown",
      "metadata": {
        "id": "448wEQP4JEgE"
      },
      "source": [
        "Internship Vs CGPA for different genders\n"
      ]
    },
    {
      "cell_type": "code",
      "metadata": {
        "colab": {
          "base_uri": "https://localhost:8080/",
          "height": 279
        },
        "id": "uSk3pQYAORe7",
        "outputId": "672e1a35-e920-453e-c56a-7e590cd43dc5"
      },
      "source": [
        "import matplotlib.pyplot as plt\n",
        "import seaborn as sns\n",
        "colg = df.copy()\n",
        "colg['Internships'] = colg['Internships'].apply(lambda x: 1 if x>0 else x)\n",
        "plt.figure(figsize=(8,4))\n",
        "sns.lineplot(x='CGPA',y='Internships',data=colg,hue='Gender')\n",
        "plt.show()"
      ],
      "execution_count": null,
      "outputs": [
        {
          "output_type": "display_data",
          "data": {
            "image/png": "[encoded data removed]",
            "text/plain": [
              "<Figure size 576x288 with 1 Axes>"
            ]
          },
          "metadata": {
            "needs_background": "light"
          }
        }
      ]
    },
    {
      "cell_type": "markdown",
      "metadata": {
        "id": "6bKDzhi2QmBz"
      },
      "source": [
        "Analysis: Females do have a slight edge over Male in securing an internship irrespective of the CGPA In Male candidate more the CGPA higher are the chances of getting an internship, While this trend is not with females where and chances increase initially and then slopes down."
      ]
    },
    {
      "cell_type": "markdown",
      "metadata": {
        "id": "xe-sezDsLhWu"
      },
      "source": [
        "Plots with respect to counts\n"
      ]
    },
    {
      "cell_type": "code",
      "metadata": {
        "colab": {
          "base_uri": "https://localhost:8080/",
          "height": 606
        },
        "id": "BLba9ZfxQz8H",
        "outputId": "1b4c89cc-8b46-4edb-b0a4-6ea24b801163"
      },
      "source": [
        "plt.subplots(2,2,figsize=(12,10))\n",
        "plt.subplot(221)\n",
        "sns.countplot(data=df, x='Hostel',palette='Accent')\n",
        "plt.subplot(222)\n",
        "sns.countplot(data=df, x='PlacedOrNot')\n",
        "plt.subplot(223)\n",
        "sns.countplot(data=df, x='HistoryOfBacklogs',palette='Dark2')\n",
        "plt.subplot(224)\n",
        "sns.countplot(data=df, x='Internships',palette='Set1')\n",
        "plt.show()"
      ],
      "execution_count": null,
      "outputs": [
        {
          "output_type": "display_data",
          "data": {
            "image/png": "[encoded data removed]",
            "text/plain": [
              "<Figure size 864x720 with 4 Axes>"
            ]
          },
          "metadata": {
            "needs_background": "light"
          }
        }
      ]
    },
    {
      "cell_type": "markdown",
      "metadata": {
        "id": "8xMteKakRO8o"
      },
      "source": [
        "Analysis: Nearly 50% of students haven't done any internship while among the rest majority of them have done atleast 1 internship and some have even done 3.\n",
        "About 25% of the total students were residing in hostel."
      ]
    },
    {
      "cell_type": "markdown",
      "metadata": {
        "id": "7-O9MRAAL9Bf"
      },
      "source": [
        "Internship Vs PlacedOrNot\n",
        "\n",
        "\n"
      ]
    },
    {
      "cell_type": "code",
      "metadata": {
        "colab": {
          "base_uri": "https://localhost:8080/",
          "height": 279
        },
        "id": "6tt8Z_WlUJ8M",
        "outputId": "a246127d-2294-484b-e2d0-1c2f45ca8182"
      },
      "source": [
        "sns.barplot(data=df,x='Internships',y='PlacedOrNot',hue='Gender')\n",
        "plt.show()"
      ],
      "execution_count": null,
      "outputs": [
        {
          "output_type": "display_data",
          "data": {
            "image/png": "[encoded data removed]",
            "text/plain": [
              "<Figure size 432x288 with 1 Axes>"
            ]
          },
          "metadata": {
            "needs_background": "light"
          }
        }
      ]
    },
    {
      "cell_type": "markdown",
      "metadata": {
        "id": "UwkPKZqfUPfA"
      },
      "source": [
        "Analysis:If you have done more than 1 internship the chances of getting placed are actually good."
      ]
    },
    {
      "cell_type": "markdown",
      "metadata": {
        "id": "mPIfYUEhR1_O"
      },
      "source": [
        "## Features with respect to Gender."
      ]
    },
    {
      "cell_type": "code",
      "metadata": {
        "colab": {
          "base_uri": "https://localhost:8080/",
          "height": 621
        },
        "id": "RE4-6YTQR4L-",
        "outputId": "58c31a50-8549-457b-aa8d-a5521fadfccf"
      },
      "source": [
        "plt.subplots(2,3,figsize=(12,10))\n",
        "plt.subplot(231)\n",
        "plt.title('Age and Gender')\n",
        "sns.boxplot(y='Age',x='Gender',data=df)\n",
        "plt.subplot(232)\n",
        "plt.title('Internships and Gender')\n",
        "sns.barplot(x='Gender',y='Internships',data=df)\n",
        "plt.subplot(233)\n",
        "plt.title('CGPA and Gender')\n",
        "sns.boxplot(x='Gender',y='CGPA',data=df)\n",
        "plt.subplot(234)\n",
        "plt.title('Hostel and Gender')\n",
        "sns.barplot(x='Gender',y='Hostel',data=df)\n",
        "plt.subplot(235)\n",
        "plt.title('Backlogs and Gender')\n",
        "sns.barplot(x='Gender',y='HistoryOfBacklogs',data=df)\n",
        "plt.subplot(236)\n",
        "plt.title('Placements and Gender')\n",
        "sns.barplot(x='Gender',y='PlacedOrNot',data=df)\n",
        "plt.show()"
      ],
      "execution_count": null,
      "outputs": [
        {
          "output_type": "display_data",
          "data": {
            "image/png": "[encoded data removed]",
            "text/plain": [
              "<Figure size 864x720 with 6 Axes>"
            ]
          },
          "metadata": {
            "needs_background": "light"
          }
        }
      ]
    },
    {
      "cell_type": "markdown",
      "metadata": {
        "id": "lqKVpkqPSPLv"
      },
      "source": [
        "Analysis:The median value of Internships by Female is quite higher than that of the Male one's.\n",
        "Male as well as the Female candidates have same median value of 7CGPA.\n",
        "Female have more tendency to stay in hostel than the Males.\n",
        "On an average Male candidate has more backlogs then the Female ones.\n",
        "With respect to Placements, the chances of Female candidate being placed is just a fraction more than that of the Male candidates."
      ]
    },
    {
      "cell_type": "markdown",
      "metadata": {
        "id": "I3UkvbVYUrOr"
      },
      "source": [
        "## Features with respect to CGPA."
      ]
    },
    {
      "cell_type": "code",
      "metadata": {
        "colab": {
          "base_uri": "https://localhost:8080/",
          "height": 279
        },
        "id": "Rf9ZqmItStaJ",
        "outputId": "9d7d321f-f45c-491b-d20f-b8583a759849"
      },
      "source": [
        "plt.figure(figsize=(8,4))\n",
        "sns.lineplot(x='CGPA',y='PlacedOrNot',data=df,hue='Gender')\n",
        "plt.show()"
      ],
      "execution_count": null,
      "outputs": [
        {
          "output_type": "display_data",
          "data": {
            "image/png": "[encoded data removed]",
            "text/plain": [
              "<Figure size 576x288 with 1 Axes>"
            ]
          },
          "metadata": {
            "needs_background": "light"
          }
        }
      ]
    },
    {
      "cell_type": "markdown",
      "metadata": {
        "id": "JQhRRiuvUzGU"
      },
      "source": [
        "Analysis:If one scores more than 8 CGPA the chances of getting placed are actually extremely good than the rest, irrespective of the Gender."
      ]
    }
  ]
}